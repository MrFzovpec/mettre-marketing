{
  "nbformat": 4,
  "nbformat_minor": 0,
  "metadata": {
    "colab": {
      "name": "Instagramm.ipynb",
      "provenance": [],
      "authorship_tag": "ABX9TyNaiBwA6HrwhJ7nQaRPoCkK",
      "include_colab_link": true
    },
    "kernelspec": {
      "name": "python3",
      "display_name": "Python 3"
    }
  },
  "cells": [
    {
      "cell_type": "markdown",
      "metadata": {
        "id": "view-in-github",
        "colab_type": "text"
      },
      "source": [
        "<a href=\"https://colab.research.google.com/github/MrFzovpec/mettre-marketing/blob/master/marketing_analysis/instagram/Instagramm.ipynb\" target=\"_parent\"><img src=\"https://colab.research.google.com/assets/colab-badge.svg\" alt=\"Open In Colab\"/></a>"
      ]
    },
    {
      "cell_type": "code",
      "metadata": {
        "id": "mela96JA3uIi",
        "colab_type": "code",
        "colab": {}
      },
      "source": [
        "!pip install transformers"
      ],
      "execution_count": null,
      "outputs": []
    },
    {
      "cell_type": "markdown",
      "metadata": {
        "id": "gvGz9UoIyUBe",
        "colab_type": "text"
      },
      "source": [
        "# Organizing the data"
      ]
    },
    {
      "cell_type": "code",
      "metadata": {
        "id": "AXIjErtpyXvD",
        "colab_type": "code",
        "colab": {}
      },
      "source": [
        "import pandas as pd"
      ],
      "execution_count": 1,
      "outputs": []
    },
    {
      "cell_type": "code",
      "metadata": {
        "id": "zLxgQ89tyaEl",
        "colab_type": "code",
        "colab": {}
      },
      "source": [
        "df = pd.read_csv('https://raw.githubusercontent.com/MrFzovpec/mettre-marketing/master/marketing_analysis/instagram/instagram.csv')"
      ],
      "execution_count": 2,
      "outputs": []
    },
    {
      "cell_type": "code",
      "metadata": {
        "id": "06yvYKjZylHi",
        "colab_type": "code",
        "colab": {}
      },
      "source": [
        "df = df.drop(columns=['Unnamed: 0', 'Unnamed: 0.1', 'Unnamed: 0.1.1', 'Unnamed: 0.1.1.1', \n",
        "                 'Unnamed: 0.1.1.1.1', 'Unnamed: 0.1.1.1.1.1', 'Unnamed: 0.1.1.1.1.1.1'])"
      ],
      "execution_count": 3,
      "outputs": []
    },
    {
      "cell_type": "code",
      "metadata": {
        "id": "TNppcZ2_ymRS",
        "colab_type": "code",
        "colab": {}
      },
      "source": [
        "df = df.dropna()"
      ],
      "execution_count": 4,
      "outputs": []
    },
    {
      "cell_type": "code",
      "metadata": {
        "id": "Mrfp_WsYz62C",
        "colab_type": "code",
        "colab": {}
      },
      "source": [
        "df = df.drop_duplicates()"
      ],
      "execution_count": 5,
      "outputs": []
    },
    {
      "cell_type": "code",
      "metadata": {
        "id": "ROwzmaJ_09LY",
        "colab_type": "code",
        "colab": {}
      },
      "source": [
        "df['index_account'] = None"
      ],
      "execution_count": 6,
      "outputs": []
    },
    {
      "cell_type": "markdown",
      "metadata": {
        "id": "BO2bKSo02rzK",
        "colab_type": "text"
      },
      "source": [
        "The accounts are depersonalized, so we need to indexate them"
      ]
    },
    {
      "cell_type": "code",
      "metadata": {
        "id": "X170JvBp2Tew",
        "colab_type": "code",
        "colab": {}
      },
      "source": [
        "index_acc = 0"
      ],
      "execution_count": 7,
      "outputs": []
    },
    {
      "cell_type": "code",
      "metadata": {
        "id": "wM_Bx7af0CgP",
        "colab_type": "code",
        "colab": {}
      },
      "source": [
        "for x in df.iterrows():\n",
        "  if x[0] == 0:\n",
        "    df['index_account'][x[0]] = index_acc\n",
        "    previous = x[1]['account_description']\n",
        "    continue\n",
        "  if x[1]['account_description'] == previous:\n",
        "    df['index_account'][x[0]] = index_acc\n",
        "  else:\n",
        "    index_acc += 1\n",
        "    df['index_account'][x[0]] = index_acc\n",
        "\n",
        "  previous = x[1]['account_description']"
      ],
      "execution_count": 8,
      "outputs": []
    },
    {
      "cell_type": "code",
      "metadata": {
        "id": "d-MIQmmUrQwH",
        "colab_type": "code",
        "colab": {
          "base_uri": "https://localhost:8080/",
          "height": 374
        },
        "outputId": "399ef40d-90fa-46a0-83eb-a2e10376b9b6"
      },
      "source": [
        "df.head()"
      ],
      "execution_count": 9,
      "outputs": [
        {
          "output_type": "execute_result",
          "data": {
            "text/html": [
              "<div>\n",
              "<style scoped>\n",
              "    .dataframe tbody tr th:only-of-type {\n",
              "        vertical-align: middle;\n",
              "    }\n",
              "\n",
              "    .dataframe tbody tr th {\n",
              "        vertical-align: top;\n",
              "    }\n",
              "\n",
              "    .dataframe thead th {\n",
              "        text-align: right;\n",
              "    }\n",
              "</style>\n",
              "<table border=\"1\" class=\"dataframe\">\n",
              "  <thead>\n",
              "    <tr style=\"text-align: right;\">\n",
              "      <th></th>\n",
              "      <th>total_posts</th>\n",
              "      <th>text</th>\n",
              "      <th>likes</th>\n",
              "      <th>date</th>\n",
              "      <th>subscribers</th>\n",
              "      <th>subscribed</th>\n",
              "      <th>image_urls</th>\n",
              "      <th>account_description</th>\n",
              "      <th>index_account</th>\n",
              "    </tr>\n",
              "  </thead>\n",
              "  <tbody>\n",
              "    <tr>\n",
              "      <th>0</th>\n",
              "      <td>155</td>\n",
              "      <td>here’s my fire/water girl oc w butterfly sleev...</td>\n",
              "      <td>42,103</td>\n",
              "      <td>2020-06-11T20:32:23.000Z</td>\n",
              "      <td>286,674</td>\n",
              "      <td>397</td>\n",
              "      <td>https://instagram.fbru2-1.fna.fbcdn.net/v/t51....</td>\n",
              "      <td>🎨 repost with credit!\\n🍉 clip studio paint\\n🍡 ...</td>\n",
              "      <td>0</td>\n",
              "    </tr>\n",
              "    <tr>\n",
              "      <th>1</th>\n",
              "      <td>155</td>\n",
              "      <td>here’s a tablet vs phone challenge bc i haven’...</td>\n",
              "      <td>76,906</td>\n",
              "      <td>2020-06-09T20:35:07.000Z</td>\n",
              "      <td>286,674</td>\n",
              "      <td>397</td>\n",
              "      <td>https://instagram.fbru2-1.fna.fbcdn.net/v/t51....</td>\n",
              "      <td>🎨 repost with credit!\\n🍉 clip studio paint\\n🍡 ...</td>\n",
              "      <td>0</td>\n",
              "    </tr>\n",
              "    <tr>\n",
              "      <th>2</th>\n",
              "      <td>155</td>\n",
              "      <td>here’s a sailor moon mermaid! ✨🌊🌊 i had fun dr...</td>\n",
              "      <td>42,219</td>\n",
              "      <td>2020-06-05T20:50:10.000Z</td>\n",
              "      <td>286,674</td>\n",
              "      <td>397</td>\n",
              "      <td>https://instagram.fbru2-1.fna.fbcdn.net/v/t51....</td>\n",
              "      <td>🎨 repost with credit!\\n🍉 clip studio paint\\n🍡 ...</td>\n",
              "      <td>0</td>\n",
              "    </tr>\n",
              "    <tr>\n",
              "      <th>3</th>\n",
              "      <td>155</td>\n",
              "      <td>here’s a support post for black artists and cr...</td>\n",
              "      <td>81,812</td>\n",
              "      <td>2020-06-03T19:20:01.000Z</td>\n",
              "      <td>286,674</td>\n",
              "      <td>397</td>\n",
              "      <td>https://instagram.fbru2-1.fna.fbcdn.net/v/t51....</td>\n",
              "      <td>🎨 repost with credit!\\n🍉 clip studio paint\\n🍡 ...</td>\n",
              "      <td>0</td>\n",
              "    </tr>\n",
              "    <tr>\n",
              "      <th>4</th>\n",
              "      <td>155</td>\n",
              "      <td>a milk carton vending machine! decorate the co...</td>\n",
              "      <td>37,869</td>\n",
              "      <td>2020-05-28T20:37:42.000Z</td>\n",
              "      <td>286,674</td>\n",
              "      <td>397</td>\n",
              "      <td>https://instagram.fbru2-1.fna.fbcdn.net/v/t51....</td>\n",
              "      <td>🎨 repost with credit!\\n🍉 clip studio paint\\n🍡 ...</td>\n",
              "      <td>0</td>\n",
              "    </tr>\n",
              "  </tbody>\n",
              "</table>\n",
              "</div>"
            ],
            "text/plain": [
              "  total_posts  ... index_account\n",
              "0         155  ...             0\n",
              "1         155  ...             0\n",
              "2         155  ...             0\n",
              "3         155  ...             0\n",
              "4         155  ...             0\n",
              "\n",
              "[5 rows x 9 columns]"
            ]
          },
          "metadata": {
            "tags": []
          },
          "execution_count": 9
        }
      ]
    },
    {
      "cell_type": "markdown",
      "metadata": {
        "id": "WAQSEl0YZL3G",
        "colab_type": "text"
      },
      "source": [
        "# Creating a dataloader"
      ]
    },
    {
      "cell_type": "markdown",
      "metadata": {
        "id": "ssnx8BMSZjhS",
        "colab_type": "text"
      },
      "source": [
        "This is going to be an LSTM model and it's going to work with the five previous examples. So, for example I wanna predict likes countable for some particular post, then I'm going to take 4 previous posts and make a prediction basing on their data. <br> <br>\n",
        "Here I'll create a few classes which would provide that functionality"
      ]
    },
    {
      "cell_type": "code",
      "metadata": {
        "id": "LHxIASRrZitk",
        "colab_type": "code",
        "colab": {}
      },
      "source": [
        "class DatasetSamples():\n",
        "  ''' This class will return a dataset samples in the format of 5 posts \n",
        "  (more or less). It's going to be kind of a sliding window'''\n",
        "  def __init__(self, df, window_size=5):\n",
        "    self.df = df\n",
        "    self.window_size = window_size\n",
        "\n",
        "  def get_window_of_posts(self):\n",
        "    users = df['index_account'].unique()\n",
        "\n",
        "    for user in users:\n",
        "      user = int(user)\n",
        "      user_df = df[df['index_account'] == user]\n",
        "      user_df_len = len(user_df)\n",
        "      user_posts_array = []\n",
        "\n",
        "      # Identifying the indexes we're going to use to parse\n",
        "      starts_index = 0\n",
        "      final_index = user_df_len - self.window_size\n",
        "\n",
        "      for index in range(starts_index, final_index):\n",
        "        # Sometimes account doesn't have even 5 posts\n",
        "        if len(user_df.iloc[index: index + self.window_size]) == 0:\n",
        "          continue\n",
        "\n",
        "        yield user_df.iloc[index: index + self.window_size]"
      ],
      "execution_count": null,
      "outputs": []
    },
    {
      "cell_type": "code",
      "metadata": {
        "id": "D_kQVRDgsFRB",
        "colab_type": "code",
        "colab": {}
      },
      "source": [
        "ds = DatasetSamples(df)"
      ],
      "execution_count": null,
      "outputs": []
    },
    {
      "cell_type": "code",
      "metadata": {
        "id": "DzpLxRisur0g",
        "colab_type": "code",
        "colab": {}
      },
      "source": [
        "ds = ds.get_window_of_posts()"
      ],
      "execution_count": null,
      "outputs": []
    },
    {
      "cell_type": "markdown",
      "metadata": {
        "id": "UHukg3Cfftkb",
        "colab_type": "text"
      },
      "source": [
        "The class above just samples a data with some particular window size and returns it in the format of generator of array of the posts (pandas df)"
      ]
    },
    {
      "cell_type": "markdown",
      "metadata": {
        "id": "BNY7aTa7ygq4",
        "colab_type": "text"
      },
      "source": [
        "The following class is encoding the text and creating a tensor out of it"
      ]
    },
    {
      "cell_type": "code",
      "metadata": {
        "id": "WEG3e8NlWab7",
        "colab_type": "code",
        "colab": {}
      },
      "source": [
        "from transformers import DistilBertTokenizer"
      ],
      "execution_count": null,
      "outputs": []
    },
    {
      "cell_type": "code",
      "metadata": {
        "id": "l1WOGRzDVwoU",
        "colab_type": "code",
        "colab": {}
      },
      "source": [
        "import torch.nn.functional as F"
      ],
      "execution_count": null,
      "outputs": []
    },
    {
      "cell_type": "code",
      "metadata": {
        "id": "HGuk-yZtyXRX",
        "colab_type": "code",
        "colab": {}
      },
      "source": [
        "import torch"
      ],
      "execution_count": null,
      "outputs": []
    },
    {
      "cell_type": "code",
      "metadata": {
        "id": "J3SYdsMbv9u3",
        "colab_type": "code",
        "colab": {}
      },
      "source": [
        "class TextEncoder():\n",
        "  def __init__(self, tokenizer = DistilBertTokenizer.from_pretrained('distilbert-base-multilingual-cased')):\n",
        "    self.tokenizer = tokenizer\n",
        "\n",
        "  def encode(self, samples):\n",
        "    text_array = [] # creating a text array for keeping all the texts\n",
        "    for i, sample in samples.iterrows():\n",
        "      text_tensor = torch.tensor(self.tokenizer.encode(sample[list(samples.columns)[0]]))\n",
        "      text_array.append(text_tensor)\n",
        "\n",
        "    return self.pad_and_stack(text_array)\n",
        "  \n",
        "  @staticmethod\n",
        "  def get_largest_elem(array, dim=0):\n",
        "    ''' The function identyfies the largest tensor over particular dimension '''\n",
        "    max_len = 0\n",
        "    for elem in array:\n",
        "      # Runs over thought the array to identify the largest one\n",
        "      if elem.shape[dim] > max_len:\n",
        "        max_len = elem.shape[dim]\n",
        "\n",
        "    return max_len\n",
        "\n",
        "  def pad_and_stack(self, array, dim=0):\n",
        "    ''' Function pads and stacks array over a new axis '''\n",
        "\n",
        "    if dim == 0:\n",
        "      largest = self.get_largest_elem(array) # gets the largest to pad\n",
        "      array_for_stack = []\n",
        "      for elem in array:\n",
        "        # Pad the elements to get equal shapes\n",
        "        elem = F.pad(elem, [0, largest - elem.shape[dim]])\n",
        "        array_for_stack.append(elem)\n",
        "\n",
        "    return torch.stack(array_for_stack)\n",
        "      "
      ],
      "execution_count": null,
      "outputs": []
    },
    {
      "cell_type": "markdown",
      "metadata": {
        "id": "sCRr3VKRYjJy",
        "colab_type": "text"
      },
      "source": [
        "The following class is the class which's going to encode images out of the link"
      ]
    },
    {
      "cell_type": "code",
      "metadata": {
        "id": "ObjQgBsKdx9i",
        "colab_type": "code",
        "colab": {}
      },
      "source": [
        "from PIL import Image"
      ],
      "execution_count": 15,
      "outputs": []
    },
    {
      "cell_type": "code",
      "metadata": {
        "id": "rLg6Hlh-eMni",
        "colab_type": "code",
        "colab": {}
      },
      "source": [
        "import requests"
      ],
      "execution_count": 19,
      "outputs": []
    },
    {
      "cell_type": "code",
      "metadata": {
        "id": "_zl775ZLeN-R",
        "colab_type": "code",
        "colab": {}
      },
      "source": [
        "from io import BytesIO"
      ],
      "execution_count": 20,
      "outputs": []
    },
    {
      "cell_type": "code",
      "metadata": {
        "id": "xJGeqHligvc8",
        "colab_type": "code",
        "colab": {}
      },
      "source": [
        "from torchvision import transforms"
      ],
      "execution_count": 31,
      "outputs": []
    },
    {
      "cell_type": "code",
      "metadata": {
        "id": "7iv-iG7cg6bw",
        "colab_type": "code",
        "colab": {}
      },
      "source": [
        "import matplotlib.pyplot as plt"
      ],
      "execution_count": 34,
      "outputs": []
    },
    {
      "cell_type": "code",
      "metadata": {
        "id": "IsVBHwUsYrmY",
        "colab_type": "code",
        "colab": {}
      },
      "source": [
        "class ImageEncoder():\n",
        "  def __init__(self, size_index=2, transform=transforms.ToTensor()):\n",
        "    self.size_index = size_index\n",
        "    self.transform = transform\n",
        "\n",
        "  def encode(self, samples):\n",
        "    image_array = [] # creating an array for keeping all the images\n",
        "    for i, sample in samples.iterrows():\n",
        "      link_orig_href = sample[list(samples.columns)[0]]\n",
        "      # Getting a clear link of an image\n",
        "      link_href = link_orig_href.split(',')[self.size_index][:-5]\n",
        "      image = self.get_img_from_remote_server(link_href)\n",
        "      image = self.transform(image)\n",
        "      image_array.append(image)\n",
        "    \n",
        "    return torch.stack(image_array)\n",
        "\n",
        "  @staticmethod\n",
        "  def get_img_from_remote_server(url):\n",
        "    ''' Function gets an image from a remote server '''\n",
        "    response = requests.get(url)\n",
        "    return Image.open(BytesIO(response.content))"
      ],
      "execution_count": 16,
      "outputs": []
    },
    {
      "cell_type": "markdown",
      "metadata": {
        "id": "TBlOkivOpqwO",
        "colab_type": "text"
      },
      "source": [
        "The following class is going to manage the data and give the final one"
      ]
    },
    {
      "cell_type": "code",
      "metadata": {
        "id": "3l7pSjc2vzVq",
        "colab_type": "code",
        "colab": {}
      },
      "source": [
        "from torch.utils.data import Dataset"
      ],
      "execution_count": null,
      "outputs": []
    },
    {
      "cell_type": "code",
      "metadata": {
        "id": "i2mjT2-FpfIZ",
        "colab_type": "code",
        "colab": {}
      },
      "source": [
        "class DatasetManager(Dataset):\n",
        "  def __init__(self, generator, text_encoder, image_encoder, meta_data_encoder,\n",
        "               date_encoder):\n",
        "    super().__init__()\n",
        "    self.generator = generator\n",
        "    self.data = [sample for sample in self.generator]\n",
        "\n",
        "    # Encoders for different data\n",
        "    self.text_encoder, self.account_description_encoder = TextEncoder()\n",
        "    self.image_encoder = ImageEncoder()\n",
        "    self.date_encoder = DateEncoder()\n",
        "    self.likes_encoder, self.comments_encoder, self.total_posts_encoder,\n",
        "    self.subscribers_encoder, self.subscribed_encoder = MetaDataEncoder()\n",
        "\n",
        "  def __getitem__(self, index):\n",
        "    sample_data = self.data[index]\n",
        "\n",
        "    return {\n",
        "        'total_posts': self.total_posts_encoder.encode(sample_data['total_posts']),\n",
        "        'text': self.text_encoder.encode(sample_data['text']),\n",
        "        'likes': self.likes_encoder.encode(sample_data['likes']),\n",
        "        'date': self.date_encoder.encode(sample_data['date']),\n",
        "        'image': self.image_encoder.encode(sample_data['image_urls']),\n",
        "        'subscribers': self.subscribers_encoder(sample_data['subscribers']),\n",
        "        'subscribed': self.subscribed_encoder.encode(sample_data['subscribed']),\n",
        "        'account_description': self.account_description_encoder.encode(sample_data['account_description']),\n",
        "    }"
      ],
      "execution_count": null,
      "outputs": []
    }
  ]
}